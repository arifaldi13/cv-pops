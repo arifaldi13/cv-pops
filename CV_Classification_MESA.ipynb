{
 "cells": [
  {
   "cell_type": "markdown",
   "id": "c687ce66-6486-4d4d-b3d5-e1084e8bcdb4",
   "metadata": {},
   "source": [
    "# Cataclysmic Variable (CV) Classification Using MESA Simulation Data\n",
    "\n",
    "This Jupyter Notebook provides a structured guide for classifying **Cataclysmic Variables (CVs)** based on binary star evolution data generated through the **Modules for Experiments in Stellar Astrophysics (MESA)** code. This notebook is based on methods and datasets developed in Putra & Putra (in preparation), which explores the formation and present-day population of CVs using a grid of binary evolution models computed with MESA.\n"
   ]
  },
  {
   "cell_type": "code",
   "execution_count": 1,
   "id": "85b7a3b8-719e-40ca-90a7-f24d1f6fa547",
   "metadata": {},
   "outputs": [],
   "source": [
    "import os\n",
    "import numpy as np\n",
    "import pandas as pd\n",
    "from tqdm import tqdm"
   ]
  },
  {
   "cell_type": "markdown",
   "id": "0421e0b1-ebd4-44f3-ba2d-9c1f76399484",
   "metadata": {},
   "source": [
    "## The Binary Evolution Dataset\n",
    "\n",
    "The dataset is organized in a directory named `MESA_COMPILED`, containing binary star evolution data produced by MESA. This dataset captures the evolutionary outcomes of a large number of binary systems at various stages. The primary goal is to determine which systems are in a CV phase at a given age.\n",
    "\n",
    "### Folder Structure\n",
    "\n",
    "- `MESA_COMPILED/`\n",
    "  - `_legend.txt`: A metadata file that provides the correspondence between an index `i` and a specific evolutionary age in years. It contains two columns:\n",
    "    - `i`: File index (integer)\n",
    "    - `age`: Age of the evolution in years (float)\n",
    "    \n",
    "    For example:\n",
    "    ```\n",
    "    i       age\n",
    "    7   3512973430.827586\n",
    "    ```\n",
    "    indicates that the file `MESA_COMPILED_7.txt` contains data for systems evaluated at 3.51 Gyr.\n",
    "\n",
    "  - `MESA_COMPILED_i.txt`: A set of files indexed by `i` (from `_legend.txt`). Each file contains simulation results for binary systems at the corresponding evolutionary age. The files are named accordingly, e.g., `MESA_COMPILED_7.txt` corresponds to age = 3.51 Gyr.\n",
    "\n",
    "### Data File Format\n",
    "\n",
    "Each `MESA_COMPILED_i.txt` file contains a table with 7 columns:\n",
    "\n",
    "| Column     | Description                                                                 |\n",
    "|------------|-----------------------------------------------------------------------------|\n",
    "| `i`        | Model index (a unique ID for the simulation run; **not** the same as in `_legend.txt`) |\n",
    "| `M1`       | Initial mass of the primary star (i.e., the white dwarf progenitor), in $M_\\odot$ |\n",
    "| `Pi`       | Initial orbital period of the binary system, in days                        |\n",
    "| `M2`       | Initial mass of the secondary star, in $M_\\odot$                            |\n",
    "| `MWD`      | Mass of the white dwarf at the specified evolutionary age, in $M_\\odot$         |\n",
    "| `Pf`       | Orbital period at the specified evolutionary age, in days                       |\n",
    "| `CV?`      | Classification status: `\"yes\"` if the system is a CV at the given age, `\"no\"` otherwise |\n",
    "\n",
    "This structure allows users to explore how different initial binary configurations evolve over time, and to identify which systems become Cataclysmic Variables.\n",
    "\n",
    "### Loading the Dataset\n",
    "\n",
    "First, we load the binary evolution dataset from the `MESA_COMPILED` directory. This includes reading the simulation outputs at different evolutionary ages and organizing them into structured arrays for further analysis.\n",
    "\n",
    "* `age_mesa`: 1D NumPy array of evolutionary ages (in years), as specified in `_legend.txt`.\n",
    "* `M1_mesa`, `Pi_mesa`, `M2_mesa`, `MW_mesa`, `Pf_mesa`, `CV_mesa`: 2D arrays containing the evolution data.\n",
    "\n",
    "  * Each row corresponds to a specific age (`MESA_COMPILED_i.txt`).\n",
    "  * Each column corresponds to a distinct binary system model at that age.\n",
    "\n",
    "The function `load_mesa_data()` handles this process automatically."
   ]
  },
  {
   "cell_type": "code",
   "execution_count": 2,
   "id": "b4b70f50-a732-4e5b-acc3-2445fab6165d",
   "metadata": {},
   "outputs": [],
   "source": [
    "def load_mesa_data(foldload):\n",
    "    os.makedirs(foldload, exist_ok=True)\n",
    "    file_count = sum(1 for file in os.listdir(foldload) if file.startswith(foldload) and os.path.isfile(os.path.join(foldload, file)))\n",
    "    M1 = []\n",
    "    Pi = []\n",
    "    M2 = []\n",
    "    Mw = []\n",
    "    Pf = []\n",
    "    CV = []\n",
    "    for i in tqdm(range(file_count)):\n",
    "        pops = pd.read_csv(foldload+'/'+foldload+'_'+str(i)+'.txt', sep=\"\\t\", header=0)\n",
    "        m1 = pops[\"M1\"]\n",
    "        m2 = pops[\"M2\"]\n",
    "        mw = pops[\"MWD\"]\n",
    "        pi = pops[\"Pi\"]\n",
    "        pf = pops[\"Pf\"]\n",
    "        cv = pops[\"CV?\"]\n",
    "        M1.append(m1)\n",
    "        M2.append(m2)\n",
    "        Mw.append(mw)\n",
    "        Pi.append(pi)\n",
    "        Pf.append(pf)\n",
    "        CV.append(cv)\n",
    "    age = pd.read_csv(foldload+\"/\"+\"_legend.txt\", sep='\\t', header=0)\n",
    "    age = age[\"age\"].to_numpy()\n",
    "    return age, np.array(M1), np.array(Pi), np.array(M2), np.array(Mw), np.array(Pf), np.array(CV)"
   ]
  },
  {
   "cell_type": "code",
   "execution_count": 3,
   "id": "a3c75129-3753-4de5-9189-c698294c67c2",
   "metadata": {},
   "outputs": [
    {
     "name": "stderr",
     "output_type": "stream",
     "text": [
      "100%|█████████████████████████████████████████████████████████████████████████████████| 29/29 [00:00<00:00, 528.60it/s]\n"
     ]
    }
   ],
   "source": [
    "age_mesa, M1_mesa, Pi_mesa, M2_mesa, MW_mesa, Pf_mesa, CV_mesa = load_mesa_data(\"MESA_COMPILED\")"
   ]
  },
  {
   "cell_type": "markdown",
   "id": "6fb67a81-a762-4ea1-9420-eaf9bbfe96da",
   "metadata": {},
   "source": [
    "Before proceeding, let's perform a brief inspection of the loaded dataset. This helps verify the integrity of the data and provides context for the physical parameters of the binary systems.\n",
    "\n",
    "We begin by displaying a few example age windows and then preview the physical parameters of all systems at a selected window.\n"
   ]
  },
  {
   "cell_type": "code",
   "execution_count": 4,
   "id": "180baa91-c6d6-4598-8882-441038f314ff",
   "metadata": {},
   "outputs": [
    {
     "name": "stdout",
     "output_type": "stream",
     "text": [
      "Total number of age snapshots: 29\n",
      "Example ages (in years): [4.30045224e+08 8.70463539e+08 1.31088185e+09 1.75130017e+09\n",
      " 2.19171848e+09] ...\n",
      "\n",
      "Previewing data at age ≈ 4.83e+09 years\n"
     ]
    },
    {
     "data": {
      "text/html": [
       "<div>\n",
       "<style scoped>\n",
       "    .dataframe tbody tr th:only-of-type {\n",
       "        vertical-align: middle;\n",
       "    }\n",
       "\n",
       "    .dataframe tbody tr th {\n",
       "        vertical-align: top;\n",
       "    }\n",
       "\n",
       "    .dataframe thead th {\n",
       "        text-align: right;\n",
       "    }\n",
       "</style>\n",
       "<table border=\"1\" class=\"dataframe\">\n",
       "  <thead>\n",
       "    <tr style=\"text-align: right;\">\n",
       "      <th></th>\n",
       "      <th>M1 [Msun]</th>\n",
       "      <th>Pi [days]</th>\n",
       "      <th>M2 [Msun]</th>\n",
       "      <th>MWD [Msun]</th>\n",
       "      <th>Pf [days]</th>\n",
       "      <th>CV?</th>\n",
       "    </tr>\n",
       "  </thead>\n",
       "  <tbody>\n",
       "    <tr>\n",
       "      <th>0</th>\n",
       "      <td>1.0</td>\n",
       "      <td>50.0</td>\n",
       "      <td>0.20</td>\n",
       "      <td>0.321676</td>\n",
       "      <td>0.041410</td>\n",
       "      <td>yes</td>\n",
       "    </tr>\n",
       "    <tr>\n",
       "      <th>1</th>\n",
       "      <td>1.0</td>\n",
       "      <td>50.0</td>\n",
       "      <td>0.25</td>\n",
       "      <td>0.321021</td>\n",
       "      <td>0.052166</td>\n",
       "      <td>yes</td>\n",
       "    </tr>\n",
       "    <tr>\n",
       "      <th>2</th>\n",
       "      <td>1.0</td>\n",
       "      <td>50.0</td>\n",
       "      <td>0.30</td>\n",
       "      <td>0.320768</td>\n",
       "      <td>0.065344</td>\n",
       "      <td>yes</td>\n",
       "    </tr>\n",
       "    <tr>\n",
       "      <th>3</th>\n",
       "      <td>1.0</td>\n",
       "      <td>87.0</td>\n",
       "      <td>0.10</td>\n",
       "      <td>inf</td>\n",
       "      <td>inf</td>\n",
       "      <td>no</td>\n",
       "    </tr>\n",
       "    <tr>\n",
       "      <th>4</th>\n",
       "      <td>1.0</td>\n",
       "      <td>87.0</td>\n",
       "      <td>0.15</td>\n",
       "      <td>0.341342</td>\n",
       "      <td>0.048998</td>\n",
       "      <td>yes</td>\n",
       "    </tr>\n",
       "  </tbody>\n",
       "</table>\n",
       "</div>"
      ],
      "text/plain": [
       "   M1 [Msun]  Pi [days]  M2 [Msun]  MWD [Msun]  Pf [days]  CV?\n",
       "0        1.0       50.0       0.20    0.321676   0.041410  yes\n",
       "1        1.0       50.0       0.25    0.321021   0.052166  yes\n",
       "2        1.0       50.0       0.30    0.320768   0.065344  yes\n",
       "3        1.0       87.0       0.10         inf        inf   no\n",
       "4        1.0       87.0       0.15    0.341342   0.048998  yes"
      ]
     },
     "execution_count": 4,
     "metadata": {},
     "output_type": "execute_result"
    }
   ],
   "source": [
    "print(f\"Total number of age snapshots: {len(age_mesa)}\")\n",
    "print(\"Example ages (in years):\", age_mesa[:5], \"...\")\n",
    "\n",
    "# Select an index to preview data (e.g., the 10th window)\n",
    "preview_index = 10\n",
    "print(f\"\\nPreviewing data at age ≈ {age_mesa[preview_index]:.2e} years\")\n",
    "\n",
    "df_preview = pd.DataFrame({\n",
    "    \"M1 [Msun]\": M1_mesa[preview_index],\n",
    "    \"Pi [days]\": Pi_mesa[preview_index],\n",
    "    \"M2 [Msun]\": M2_mesa[preview_index],\n",
    "    \"MWD [Msun]\": MW_mesa[preview_index],\n",
    "    \"Pf [days]\": Pf_mesa[preview_index],\n",
    "    \"CV?\": CV_mesa[preview_index]\n",
    "})\n",
    "\n",
    "df_preview.head()\n"
   ]
  },
  {
   "cell_type": "markdown",
   "id": "30b49d50-5b1e-42a7-8f09-718af45f4b5e",
   "metadata": {},
   "source": [
    "You may notice that some entries in the `MWD` and `Pf` columns contain `inf` or `NaN` values. These are **not errors**, but intentional artifacts resulting from the interpolation process used to compile this dataset from raw MESA simulation outputs.\n",
    "\n",
    "These cases typically represent one of the following physical scenarios:\n",
    "\n",
    "- The binary model **did not successfully pass through the common envelope phase** (or at least not yet in that age window), and thus no meaningful post-CE parameters (like `MWD` or `Pf`) can be computed.\n",
    "- The binary system has effectively **ceased to be a viable CV** at the given age window — for example, the secondary star may have become too low in mass (or already dead, for short).\n",
    "\n",
    "Such systems can be safely **ignored**, especially in CV classification tasks as the data already flagged \"no\". You may apply a mask later on if you wish to get the `MWD` and `Pf` values, but that would not be the case for now.|"
   ]
  },
  {
   "cell_type": "markdown",
   "id": "1b956cbb-b606-4a92-b701-0f62266c6db7",
   "metadata": {},
   "source": [
    "## Model Fitting\n",
    "\n",
    "We build a simple machine learning classifier to predict whether a binary system becomes a CV at a given Galactic age window, based on its physical parameters. We will use **TensorFlow**, a widely-used open-source library for numerical computation and machine learning, particularly well-suited for deep learning applications.\n",
    "\n",
    "To keep things interpretable and computationally light, we incorporate:\n",
    "\n",
    "* Three **Dense layers** with 2 hidden layers\n",
    "* **Linear activation** and **Binary cross-entropy loss fucntion** with logits\n",
    "* **Adam Algorithm** for the learning rate determination\n",
    "* Finding the best starting learning rate value through loop"
   ]
  },
  {
   "cell_type": "code",
   "execution_count": 5,
   "id": "ac9cf396-e47f-4f3d-a71f-590448a80674",
   "metadata": {},
   "outputs": [],
   "source": [
    "import matplotlib.pyplot as plt\n",
    "import tensorflow as tf\n",
    "from sklearn.model_selection import train_test_split\n",
    "from sklearn.utils import class_weight\n",
    "from tensorflow.keras import Sequential\n",
    "from tensorflow.keras.callbacks import EarlyStopping\n",
    "from tensorflow.keras.layers import Dense, Normalization\n",
    "from tensorflow.keras.losses import BinaryCrossentropy"
   ]
  },
  {
   "cell_type": "markdown",
   "id": "f79e0cad-03c5-40ae-ab5b-48e1d78e6ede",
   "metadata": {},
   "source": [
    "### Preparing The Dataset\n",
    "\n",
    "Before training, we must restructure the dataset into a format suitable for TensorFlow:\n",
    "\n",
    "* Each **data point** will be a NumPy array of features:\n",
    "  `X = [age, M1, M2, Pi]`\n",
    "* Each **label** will be a binary indicator:\n",
    "  `Y = [1]` if the system is a CV, `0` otherwise\n",
    "\n",
    "First, flatten the data arrays: `(n_window, n_model) → (n_window * n_model,)`"
   ]
  },
  {
   "cell_type": "code",
   "execution_count": 6,
   "id": "a69f3906-dffd-4c7a-8a63-c822c3543b9b",
   "metadata": {},
   "outputs": [],
   "source": [
    "age_flat = np.repeat(age_mesa[:, np.newaxis], M1_mesa.shape[1], axis=1).flatten()\n",
    "M1_flat = M1_mesa.flatten()\n",
    "M2_flat = M2_mesa.flatten()\n",
    "Pi_flat = Pi_mesa.flatten()\n",
    "CV_flat = CV_mesa.flatten()"
   ]
  },
  {
   "cell_type": "markdown",
   "id": "1c2a6451-60a4-4120-976b-1ed362d35526",
   "metadata": {},
   "source": [
    "And then, lets convert `CV?` labels to binary: `yes` → 1, `no` → 0 and combine all features into `X` and `Y` arrays."
   ]
  },
  {
   "cell_type": "code",
   "execution_count": 7,
   "id": "780ed134-4633-490f-9ada-e8496d313efd",
   "metadata": {},
   "outputs": [],
   "source": [
    "X = np.vstack([age_flat, M1_flat, M2_flat, Pi_flat]).T\n",
    "Y = np.array([1 if x == 'yes' else 0 for x in CV_flat])"
   ]
  },
  {
   "cell_type": "markdown",
   "id": "e8bd1372-2275-4a42-91a1-b5f0d60a538b",
   "metadata": {},
   "source": [
    "Before fitting the model, it is useful to inspect the structured dataset that will be passed to TensorFlow. The input features include the system's evolutionary age and initial physical parameters, while the target label indicates whether the system is classified as a CV.\n",
    "\n",
    "The preview below shows the first few entries of the training dataset:\n",
    "\n",
    "* **Features**: Age, primary mass (M1), secondary mass (M2), and initial orbital period (Pi)\n",
    "* **Label**: `CV?`, converted to binary (1 = CV, 0 = not a CV)\n"
   ]
  },
  {
   "cell_type": "code",
   "execution_count": 8,
   "id": "f6783e59-870a-405c-9f1e-7b7e8238ed65",
   "metadata": {},
   "outputs": [
    {
     "name": "stdout",
     "output_type": "stream",
     "text": [
      "Total training data points: 2436\n"
     ]
    },
    {
     "data": {
      "text/html": [
       "<div>\n",
       "<style scoped>\n",
       "    .dataframe tbody tr th:only-of-type {\n",
       "        vertical-align: middle;\n",
       "    }\n",
       "\n",
       "    .dataframe tbody tr th {\n",
       "        vertical-align: top;\n",
       "    }\n",
       "\n",
       "    .dataframe thead th {\n",
       "        text-align: right;\n",
       "    }\n",
       "</style>\n",
       "<table border=\"1\" class=\"dataframe\">\n",
       "  <thead>\n",
       "    <tr style=\"text-align: right;\">\n",
       "      <th></th>\n",
       "      <th>Age [yr]</th>\n",
       "      <th>M1 [Msun]</th>\n",
       "      <th>M2 [Msun]</th>\n",
       "      <th>Pi [days]</th>\n",
       "      <th>CV?</th>\n",
       "    </tr>\n",
       "  </thead>\n",
       "  <tbody>\n",
       "    <tr>\n",
       "      <th>0</th>\n",
       "      <td>4.300452e+08</td>\n",
       "      <td>1.0</td>\n",
       "      <td>0.20</td>\n",
       "      <td>50.0</td>\n",
       "      <td>1</td>\n",
       "    </tr>\n",
       "    <tr>\n",
       "      <th>1</th>\n",
       "      <td>4.300452e+08</td>\n",
       "      <td>1.0</td>\n",
       "      <td>0.25</td>\n",
       "      <td>50.0</td>\n",
       "      <td>0</td>\n",
       "    </tr>\n",
       "    <tr>\n",
       "      <th>2</th>\n",
       "      <td>4.300452e+08</td>\n",
       "      <td>1.0</td>\n",
       "      <td>0.30</td>\n",
       "      <td>50.0</td>\n",
       "      <td>0</td>\n",
       "    </tr>\n",
       "    <tr>\n",
       "      <th>3</th>\n",
       "      <td>4.300452e+08</td>\n",
       "      <td>1.0</td>\n",
       "      <td>0.10</td>\n",
       "      <td>87.0</td>\n",
       "      <td>0</td>\n",
       "    </tr>\n",
       "    <tr>\n",
       "      <th>4</th>\n",
       "      <td>4.300452e+08</td>\n",
       "      <td>1.0</td>\n",
       "      <td>0.15</td>\n",
       "      <td>87.0</td>\n",
       "      <td>0</td>\n",
       "    </tr>\n",
       "    <tr>\n",
       "      <th>5</th>\n",
       "      <td>4.300452e+08</td>\n",
       "      <td>1.0</td>\n",
       "      <td>0.20</td>\n",
       "      <td>87.0</td>\n",
       "      <td>0</td>\n",
       "    </tr>\n",
       "    <tr>\n",
       "      <th>6</th>\n",
       "      <td>4.300452e+08</td>\n",
       "      <td>1.0</td>\n",
       "      <td>0.25</td>\n",
       "      <td>87.0</td>\n",
       "      <td>0</td>\n",
       "    </tr>\n",
       "    <tr>\n",
       "      <th>7</th>\n",
       "      <td>4.300452e+08</td>\n",
       "      <td>1.0</td>\n",
       "      <td>0.30</td>\n",
       "      <td>87.0</td>\n",
       "      <td>0</td>\n",
       "    </tr>\n",
       "    <tr>\n",
       "      <th>8</th>\n",
       "      <td>4.300452e+08</td>\n",
       "      <td>1.0</td>\n",
       "      <td>0.10</td>\n",
       "      <td>149.0</td>\n",
       "      <td>0</td>\n",
       "    </tr>\n",
       "    <tr>\n",
       "      <th>9</th>\n",
       "      <td>4.300452e+08</td>\n",
       "      <td>1.0</td>\n",
       "      <td>0.15</td>\n",
       "      <td>149.0</td>\n",
       "      <td>0</td>\n",
       "    </tr>\n",
       "  </tbody>\n",
       "</table>\n",
       "</div>"
      ],
      "text/plain": [
       "       Age [yr]  M1 [Msun]  M2 [Msun]  Pi [days]  CV?\n",
       "0  4.300452e+08        1.0       0.20       50.0    1\n",
       "1  4.300452e+08        1.0       0.25       50.0    0\n",
       "2  4.300452e+08        1.0       0.30       50.0    0\n",
       "3  4.300452e+08        1.0       0.10       87.0    0\n",
       "4  4.300452e+08        1.0       0.15       87.0    0\n",
       "5  4.300452e+08        1.0       0.20       87.0    0\n",
       "6  4.300452e+08        1.0       0.25       87.0    0\n",
       "7  4.300452e+08        1.0       0.30       87.0    0\n",
       "8  4.300452e+08        1.0       0.10      149.0    0\n",
       "9  4.300452e+08        1.0       0.15      149.0    0"
      ]
     },
     "execution_count": 8,
     "metadata": {},
     "output_type": "execute_result"
    }
   ],
   "source": [
    "df_tf_preview = pd.DataFrame(X, columns=[\"Age [yr]\", \"M1 [Msun]\", \"M2 [Msun]\", \"Pi [days]\"])\n",
    "df_tf_preview[\"CV?\"] = Y\n",
    "\n",
    "print(f\"Total training data points: {X.shape[0]}\")\n",
    "df_tf_preview.head(10)"
   ]
  },
  {
   "cell_type": "markdown",
   "id": "011f3e3a-02a7-40b1-a227-d4a41dde0159",
   "metadata": {},
   "source": [
    "### Handling Class Imbalance with Weighted Loss\n",
    "\n",
    "Before we train the machine learning model, it’s helpful to visually explore how the CV classification depends on different physical properties across time. We arbitrarily isolate systems with initial primary mass $M_2 = 1.3 \\mathrm{M_\\odot}$ and compare their orbital and secondary star configurations at three different evolutionary ages. For each of these, we plot $P_i$ vs $M_2$, color-coded by whether the system becomes a CV at that age window."
   ]
  },
  {
   "cell_type": "code",
   "execution_count": 9,
   "id": "91fcd0f6-6d44-4138-a15d-589f47181147",
   "metadata": {},
   "outputs": [
    {
     "data": {
      "image/png": "[encoded data removed]",
      "text/plain": [
       "<Figure size 1200x500 with 3 Axes>"
      ]
     },
     "metadata": {},
     "output_type": "display_data"
    }
   ],
   "source": [
    "indices = [0, len(age_mesa)//2, len(age_mesa)-1]\n",
    "fig, axes = plt.subplots(1, 3, figsize=(12, 5), sharey=True)\n",
    "\n",
    "for idx, ax in zip(indices, axes):\n",
    "    mask = (np.abs(M1_mesa[idx] - 1.3) < 0.01)\n",
    "    \n",
    "    m2 = M2_mesa[idx][mask]\n",
    "    pi = Pi_mesa[idx][mask]\n",
    "    cv = CV_mesa[idx][mask]\n",
    "    cv_binary = np.array([True if x == 'yes' else False for x in cv])\n",
    "    m2_cv = m2[cv_binary]\n",
    "    pi_cv = pi[cv_binary]\n",
    "    m2_no = m2[np.invert(cv_binary)]\n",
    "    pi_no = pi[np.invert(cv_binary)]\n",
    "\n",
    "    ax.scatter(pi_cv, m2_cv, facecolors='none', edgecolors='b', marker='o', s=130)\n",
    "    ax.scatter(pi_no, m2_no, c='r', marker='x', s=100)\n",
    "    ax.set_title(f\"Age ≈ {age_mesa[idx]:.2e} yr\")\n",
    "    ax.set_xlabel(r\"$P_i$ (days)\")\n",
    "    ax.set_xlim(60,440)\n",
    "    ax.set_ylim(0.08,0.42)\n",
    "    ax.grid(True)\n",
    "\n",
    "axes[0].set_ylabel(r\"$M_2$ ($\\mathrm{M_\\odot}$)\")\n",
    "handles = [plt.scatter([0], [0], c='r', marker='x', s=100, label='Non-CV'),\n",
    "           plt.scatter([0], [0], facecolors='none', edgecolors='b', marker='o', s=130, label='CV')]\n",
    "fig.legend(handles=handles, loc=\"lower center\", ncol=2, fontsize=12)\n",
    "plt.tight_layout(rect=[0, 0.05, 1, 0.95])\n",
    "plt.show()\n"
   ]
  },
  {
   "cell_type": "markdown",
   "id": "0e6b9416-74c3-4837-943a-da4b19d72780",
   "metadata": {},
   "source": [
    "As we've seen in the previous plots, **CV systems are extremely underrepresented** compared to non-CV systems. To address this, we apply **class weighting**, which tells the model to \"care more\" about correctly classifying the rarer CV examples. We compute the class weights using `sklearn.class_weight`.\n"
   ]
  },
  {
   "cell_type": "code",
   "execution_count": 10,
   "id": "5deb054d-fb2f-4734-95bf-955ad0045103",
   "metadata": {},
   "outputs": [
    {
     "name": "stdout",
     "output_type": "stream",
     "text": [
      "{0: 0.6163967611336032, 1: 2.6478260869565218}\n"
     ]
    }
   ],
   "source": [
    "class_weights = class_weight.compute_class_weight(\n",
    "    class_weight='balanced',\n",
    "    classes=np.unique(Y),\n",
    "    y=Y\n",
    ")\n",
    "class_weights_dict = {i : w for i, w in enumerate(class_weights)}\n",
    "print(class_weights_dict)"
   ]
  },
  {
   "cell_type": "markdown",
   "id": "90ac2a79-55e2-4027-9be6-44f2995a335e",
   "metadata": {},
   "source": [
    "This `class_weights_dict` will be passed into the `.fit()` method of the TensorFlow model to **balance the training loss function**."
   ]
  },
  {
   "cell_type": "markdown",
   "id": "1a041cca-a57e-4d32-a68a-15c8be194f8a",
   "metadata": {},
   "source": [
    "### Splitting Data: Training vs. Cross-Validation Set\n",
    "\n",
    "Before training a machine learning model, it is crucial to evaluate its ability to generalize to unseen data. One common and effective approach is to split the available data into two subsets:\n",
    "\n",
    "* **Training Set (`X_train`, `Y_train`)**: Used to fit the model.\n",
    "* **Cross-Validation Set (`X_cv`, `Y_cv`)**: Used to evaluate the model's performance on unseen data during the tuning process, such as testing different learning rates.\n",
    "\n",
    "This process is essential because models can easily overfit the training data, learning patterns that do not generalize well. The cross-validation set acts as a proxy for future test data, giving us a fairer assessment of how the model is likely to perform in practice.\n",
    "\n",
    "We perform the split using `sklearn.train_test_split()`"
   ]
  },
  {
   "cell_type": "code",
   "execution_count": 11,
   "id": "0bb3839b-f7a4-4af3-987a-1dde3759d253",
   "metadata": {},
   "outputs": [],
   "source": [
    "X_train, X_cv, Y_train, Y_cv = train_test_split(X, Y, test_size=0.20, random_state=42)"
   ]
  },
  {
   "cell_type": "markdown",
   "id": "53af0c41-d35b-427d-8dcb-a936ca2a4004",
   "metadata": {},
   "source": [
    "By setting `random_state=42`, we ensure the split is **reproducible** across runs.\n",
    "\n",
    "Later, we will use this split to **test different learning rates** and select the one that minimizes validation loss—an essential step for stable and efficient model training."
   ]
  },
  {
   "cell_type": "markdown",
   "id": "e6e7a7d8-c6f5-495f-b078-b11769456b4b",
   "metadata": {},
   "source": [
    "### Feature Normalization\n",
    "\n",
    "Lets preview the structure of the reformatted training dataset."
   ]
  },
  {
   "cell_type": "code",
   "execution_count": 12,
   "id": "ff4fa272-0b4c-41e4-a02d-2377c9c7ffba",
   "metadata": {},
   "outputs": [
    {
     "name": "stdout",
     "output_type": "stream",
     "text": [
      "Total training data points: 2436\n"
     ]
    },
    {
     "data": {
      "text/html": [
       "<div>\n",
       "<style scoped>\n",
       "    .dataframe tbody tr th:only-of-type {\n",
       "        vertical-align: middle;\n",
       "    }\n",
       "\n",
       "    .dataframe tbody tr th {\n",
       "        vertical-align: top;\n",
       "    }\n",
       "\n",
       "    .dataframe thead th {\n",
       "        text-align: right;\n",
       "    }\n",
       "</style>\n",
       "<table border=\"1\" class=\"dataframe\">\n",
       "  <thead>\n",
       "    <tr style=\"text-align: right;\">\n",
       "      <th></th>\n",
       "      <th>Age [yr]</th>\n",
       "      <th>M1 [Msun]</th>\n",
       "      <th>M2 [Msun]</th>\n",
       "      <th>Pi [days]</th>\n",
       "      <th>CV?</th>\n",
       "    </tr>\n",
       "  </thead>\n",
       "  <tbody>\n",
       "    <tr>\n",
       "      <th>0</th>\n",
       "      <td>1.011925e+10</td>\n",
       "      <td>1.0</td>\n",
       "      <td>0.35</td>\n",
       "      <td>257.0</td>\n",
       "      <td>0</td>\n",
       "    </tr>\n",
       "    <tr>\n",
       "      <th>1</th>\n",
       "      <td>1.144050e+10</td>\n",
       "      <td>2.0</td>\n",
       "      <td>0.40</td>\n",
       "      <td>232.0</td>\n",
       "      <td>0</td>\n",
       "    </tr>\n",
       "    <tr>\n",
       "      <th>2</th>\n",
       "      <td>8.357575e+09</td>\n",
       "      <td>1.0</td>\n",
       "      <td>0.30</td>\n",
       "      <td>257.0</td>\n",
       "      <td>0</td>\n",
       "    </tr>\n",
       "    <tr>\n",
       "      <th>3</th>\n",
       "      <td>1.751300e+09</td>\n",
       "      <td>1.3</td>\n",
       "      <td>0.30</td>\n",
       "      <td>417.0</td>\n",
       "      <td>0</td>\n",
       "    </tr>\n",
       "    <tr>\n",
       "      <th>4</th>\n",
       "      <td>1.011925e+10</td>\n",
       "      <td>5.0</td>\n",
       "      <td>0.40</td>\n",
       "      <td>793.0</td>\n",
       "      <td>0</td>\n",
       "    </tr>\n",
       "  </tbody>\n",
       "</table>\n",
       "</div>"
      ],
      "text/plain": [
       "       Age [yr]  M1 [Msun]  M2 [Msun]  Pi [days]  CV?\n",
       "0  1.011925e+10        1.0       0.35      257.0    0\n",
       "1  1.144050e+10        2.0       0.40      232.0    0\n",
       "2  8.357575e+09        1.0       0.30      257.0    0\n",
       "3  1.751300e+09        1.3       0.30      417.0    0\n",
       "4  1.011925e+10        5.0       0.40      793.0    0"
      ]
     },
     "execution_count": 12,
     "metadata": {},
     "output_type": "execute_result"
    }
   ],
   "source": [
    "df_tf_preview = pd.DataFrame(X_train, columns=[\"Age [yr]\", \"M1 [Msun]\", \"M2 [Msun]\", \"Pi [days]\"])\n",
    "df_tf_preview[\"CV?\"] = Y_train\n",
    "\n",
    "print(f\"Total training data points: {X.shape[0]}\")\n",
    "df_tf_preview.head()"
   ]
  },
  {
   "cell_type": "markdown",
   "id": "f813b759-a82f-47e2-b4ae-0265f55c093a",
   "metadata": {},
   "source": [
    "From this preview, perhaps you already noticed immediately before that the **magnitude of the features is highly imbalanced**. i.e.:\n",
    "\n",
    "* Stellar ages are on the order of billions,\n",
    "* Masses are typically fractional,\n",
    "* Orbital periods are in the range of tens to hundreds of days.\n",
    "\n",
    "Such scale differences can severely impact the training process of neural networks, especially when using gradient-based optimizers. Features with large ranges can dominate the training dynamics, leading to unstable or suboptimal convergence.\n",
    "\n",
    "To address this, we apply feature normalization, which scales all input features to comparable magnitudes. TensorFlow provides a convenient utility via `tf.keras.layers.Normalization()`"
   ]
  },
  {
   "cell_type": "code",
   "execution_count": 13,
   "id": "9cfbbb09-145d-4cbf-8103-4c291bf00436",
   "metadata": {},
   "outputs": [],
   "source": [
    "normalizer = Normalization()\n",
    "normalizer.adapt(X_train)\n",
    "X_train_norm = normalizer(X_train)\n",
    "X_cv_norm = normalizer(X_cv)"
   ]
  },
  {
   "cell_type": "markdown",
   "id": "a8a3c316-ab5e-449a-b4a8-242520cdac30",
   "metadata": {},
   "source": [
    "Lets review the normalized dataset."
   ]
  },
  {
   "cell_type": "code",
   "execution_count": 14,
   "id": "d4e68bf4-94ba-4290-aa7a-6ded3800810f",
   "metadata": {},
   "outputs": [
    {
     "name": "stdout",
     "output_type": "stream",
     "text": [
      "Total training data points: 2436\n"
     ]
    },
    {
     "data": {
      "text/html": [
       "<div>\n",
       "<style scoped>\n",
       "    .dataframe tbody tr th:only-of-type {\n",
       "        vertical-align: middle;\n",
       "    }\n",
       "\n",
       "    .dataframe tbody tr th {\n",
       "        vertical-align: top;\n",
       "    }\n",
       "\n",
       "    .dataframe thead th {\n",
       "        text-align: right;\n",
       "    }\n",
       "</style>\n",
       "<table border=\"1\" class=\"dataframe\">\n",
       "  <thead>\n",
       "    <tr style=\"text-align: right;\">\n",
       "      <th></th>\n",
       "      <th>Age [yr]</th>\n",
       "      <th>M1 [Msun]</th>\n",
       "      <th>M2 [Msun]</th>\n",
       "      <th>Pi [days]</th>\n",
       "      <th>CV?</th>\n",
       "    </tr>\n",
       "  </thead>\n",
       "  <tbody>\n",
       "    <tr>\n",
       "      <th>0</th>\n",
       "      <td>0.935854</td>\n",
       "      <td>-0.769211</td>\n",
       "      <td>-0.095737</td>\n",
       "      <td>-0.442085</td>\n",
       "      <td>0</td>\n",
       "    </tr>\n",
       "    <tr>\n",
       "      <th>1</th>\n",
       "      <td>1.293197</td>\n",
       "      <td>-0.315308</td>\n",
       "      <td>0.118872</td>\n",
       "      <td>-0.505200</td>\n",
       "      <td>0</td>\n",
       "    </tr>\n",
       "    <tr>\n",
       "      <th>2</th>\n",
       "      <td>0.459397</td>\n",
       "      <td>-0.769211</td>\n",
       "      <td>-0.310346</td>\n",
       "      <td>-0.442085</td>\n",
       "      <td>0</td>\n",
       "    </tr>\n",
       "    <tr>\n",
       "      <th>3</th>\n",
       "      <td>-1.327318</td>\n",
       "      <td>-0.633040</td>\n",
       "      <td>-0.310346</td>\n",
       "      <td>-0.038154</td>\n",
       "      <td>0</td>\n",
       "    </tr>\n",
       "    <tr>\n",
       "      <th>4</th>\n",
       "      <td>0.935854</td>\n",
       "      <td>1.046399</td>\n",
       "      <td>0.118872</td>\n",
       "      <td>0.911085</td>\n",
       "      <td>0</td>\n",
       "    </tr>\n",
       "  </tbody>\n",
       "</table>\n",
       "</div>"
      ],
      "text/plain": [
       "   Age [yr]  M1 [Msun]  M2 [Msun]  Pi [days]  CV?\n",
       "0  0.935854  -0.769211  -0.095737  -0.442085    0\n",
       "1  1.293197  -0.315308   0.118872  -0.505200    0\n",
       "2  0.459397  -0.769211  -0.310346  -0.442085    0\n",
       "3 -1.327318  -0.633040  -0.310346  -0.038154    0\n",
       "4  0.935854   1.046399   0.118872   0.911085    0"
      ]
     },
     "execution_count": 14,
     "metadata": {},
     "output_type": "execute_result"
    }
   ],
   "source": [
    "df_tf_preview = pd.DataFrame(X_train_norm, columns=[\"Age [yr]\", \"M1 [Msun]\", \"M2 [Msun]\", \"Pi [days]\"])\n",
    "df_tf_preview[\"CV?\"] = Y_train\n",
    "\n",
    "print(f\"Total training data points: {X.shape[0]}\")\n",
    "df_tf_preview.head()"
   ]
  },
  {
   "cell_type": "markdown",
   "id": "209d3c26-4747-47aa-ac1e-28107af82961",
   "metadata": {},
   "source": [
    "### Model Architecture\n",
    "\n",
    "We will utilize a sequential neural network model designed to replicate the classification output of the MESA simulation. The architecture was chosen to provide sufficient capacity to learn the complex relationship between the input features and the binary output, while avoiding unnecessary complexity.\n",
    "\n",
    "The model structure is as follows:\n",
    "\n",
    "1.  **Input and Normalization:** The `normalizer` layer handles feature scaling, preparing the data for the neural network.\n",
    "2.  **Hidden Layers (L1 and L2):**\n",
    "    *   Two fully connected (`Dense`) hidden layers are used.\n",
    "    *   The first hidden layer (`L1`) has 64 neurons.\n",
    "    *   The second hidden layer (`L2`) has 32 neurons.\n",
    "    *   Both layers use the ReLU (`activation='relu'`) activation function, a common choice for hidden layers due to its computational efficiency and ability to help the model learn non-linear patterns.\n",
    "    *   These layer sizes were selected after experimentation to provide adequate representational power for the physics function without being excessively large, which can sometimes make training harder or slower.\n",
    "3.  **Output Layer (L3):**\n",
    "    *   The final layer is a `Dense` layer with 1 neuron. This is standard for binary classification tasks where we need a single output value (either a probability or a raw score).\n",
    "    *   Crucially, this layer uses a linear (`activation='linear'`) activation function. This means the layer outputs the raw, unscaled sum of its inputs, known as a `logit`, rather than a probability between 0 and 1 (which a sigmoid activation would produce)."
   ]
  },
  {
   "cell_type": "code",
   "execution_count": 15,
   "id": "54904250-6267-4460-8aab-d64e831f1d02",
   "metadata": {},
   "outputs": [],
   "source": [
    "model = Sequential([\n",
    "    normalizer,\n",
    "    Dense(64, activation = 'relu', name = 'L1'),\n",
    "    Dense(32, activation = 'relu', name = 'L2'),\n",
    "    Dense(1, activation = 'linear', name='L3')\n",
    "])"
   ]
  },
  {
   "cell_type": "markdown",
   "id": "2327417f-a0c6-4ba2-82b5-dee7480547bd",
   "metadata": {},
   "source": [
    "### Model Compilation\n",
    "\n",
    "To prepare the model for training, we define the optimizer, loss function, and metrics.\n",
    "\n",
    "We use the Adam optimizer, a popular choice known for its efficiency.\n",
    "\n",
    "For binary classification, the standard loss function is Binary Crossentropy. Since our model's output layer has a `linear` activation (outputting logits), we must set `from_logits=True` in the `BinaryCrossentropy` loss function.\n",
    "\n",
    "*   Using `from_logits=True` tells the loss function to expect the raw logit values directly from the model's output layer.\n",
    "*   The loss function then internally handles the conversion of these logits into probabilities (using a sigmoid function) before calculating the cross-entropy loss.\n",
    "*   This approach (linear output + `BinaryCrossentropy(from_logits=True)`) is generally more numerically stable than using a sigmoid activation in the output layer and `BinaryCrossentropy` without `from_logits=True`, especially when dealing with potential floating-point issues during training.\n",
    "\n",
    "We also monitor accuracy during training, which is calculated correctly by TensorFlow even when using logits and `from_logits=True` for the loss."
   ]
  },
  {
   "cell_type": "code",
   "execution_count": 16,
   "id": "ee9665e9-8222-46c4-80a9-5950652a9445",
   "metadata": {},
   "outputs": [],
   "source": [
    "model.compile(\n",
    "    optimizer='adam',\n",
    "    loss=BinaryCrossentropy(from_logits=True),\n",
    "    metrics=['accuracy']\n",
    ")"
   ]
  },
  {
   "cell_type": "markdown",
   "id": "63839179-9254-4912-a7c4-62133f270d6b",
   "metadata": {},
   "source": [
    "### Model Training with Early Stopping\n",
    "\n",
    "Now that the model is compiled, we can train it using the `model.fit()` method.\n",
    "\n",
    "During training, we will monitor the model's performance on both the training data and the separate validation data (`X_cv`, `Y_cv`). The validation data serves as a proxy for unseen data, helping us evaluate how well the model is generalizing.\n",
    "\n",
    "A crucial technique used here is Early Stopping, implemented as a Keras Callback. Early Stopping helps to prevent prolonged training that might lead to the model overly specializing in the training data without improving performance on unseen examples (though in our physics simulation context, it helps find the epoch with the highest performance on our validation samples of the deterministic function).\n",
    "\n",
    "The Early Stopping callback is configured with the following parameters:\n",
    "\n",
    "*   `monitor='val_accuracy'`: We monitor the model's accuracy on the validation dataset at the end of each epoch.\n",
    "*   `mode='max'`: We are looking for the *maximum* value of `val_accuracy`. Early Stopping will trigger when the validation accuracy stops improving.\n",
    "*   `patience=100`: Training will stop if the `val_accuracy` does not improve for 100 consecutive epochs. A higher patience value is used here to account for potential fluctuations in validation accuracy during training and ensure the model has ample opportunity to find its best state.\n",
    "*   `restore_best_weights=True`: After training stops, the model's weights will be reset to the state from the epoch where the `val_accuracy` was at its highest value recorded during the entire training run. This ensures we get the model that performed best on the validation data.\n",
    "\n",
    "We will train for a maximum of `epochs=1000`, but Early Stopping will likely halt the process earlier based on the validation performance.\n",
    "\n",
    "We also include the `class_weight` argument, which was calculated previously (`class_weights_dict`), to help the model better handle the data imbalance by giving more importance to samples from the minority class during the training process."
   ]
  },
  {
   "cell_type": "code",
   "execution_count": 17,
   "id": "f648bd65-817e-49bd-8470-eb51ea880da6",
   "metadata": {},
   "outputs": [
    {
     "name": "stdout",
     "output_type": "stream",
     "text": [
      "Fitting...\n",
      "Done\n"
     ]
    }
   ],
   "source": [
    "early_stopping = EarlyStopping(\n",
    "    monitor='val_accuracy',\n",
    "    mode='max',\n",
    "    patience=100,\n",
    "    restore_best_weights=True\n",
    ")\n",
    "\n",
    "print(\"Fitting...\")\n",
    "\n",
    "history = model.fit(\n",
    "    X_train, Y_train,\n",
    "    validation_data=(X_cv, Y_cv),\n",
    "    epochs=1000,\n",
    "    class_weight=class_weights_dict,\n",
    "    callbacks=[early_stopping],\n",
    "    verbose=0\n",
    ")\n",
    "\n",
    "print(\"Done\")"
   ]
  },
  {
   "cell_type": "markdown",
   "id": "3d3b7330-6f3c-427b-bce7-0e1d8b028cd5",
   "metadata": {},
   "source": [
    "## Model Evaluation\n",
    "\n",
    "### Report\n",
    "\n",
    "After training, we evaluate the performance of the best model found by Early Stopping on our evaluation dataset (presumably represented by `X` and `Y` in this code cell).\n",
    "\n",
    "We will use the standard Classification Report from scikit-learn to get a detailed breakdown of the model's performance metrics for each class (Class 0 and Class 1).\n",
    "\n",
    "To obtain the final binary predictions from our model (which outputs logits), we follow these steps:\n",
    "\n",
    "1.  Get the raw logit outputs from the trained model using `model.predict()` on the evaluation data (`X`).\n",
    "2.  Apply the sigmoid function (`tf.sigmoid()`) to convert these logits into probabilities between 0 and 1.\n",
    "3.  Apply a prediction threshold of **0.5** to these probabilities:\n",
    "    *   If the predicted probability is 0.5 or higher, we classify the instance as Class 1.\n",
    "    *   If the predicted probability is below 0.5, we classify the instance as Class 0.\n",
    "\n",
    "Finally, the `classification_report` will present the results, including:\n",
    "\n",
    "*   **Precision:** The proportion of instances predicted as a class that were actually that class (accuracy of positive predictions). `Precision = TP / (TP + FP)`\n",
    "*   **Recall:** The proportion of actual instances of a class that were correctly identified by the model (sensitivity). `Recall = TP / (TP + FN)`\n",
    "*   **F1-score:** The harmonic mean of Precision and Recall, providing a single metric that balances both. `F1 = 2 * (Precision * Recall) / (Precision + Recall)`\n",
    "*   **Support:** The number of actual instances of that class in the evaluation dataset.\n",
    "*   **Accuracy:** The overall proportion of correctly classified instances.\n",
    "*   **Macro Avg:** The average of the per-class metrics, treating all classes equally.\n",
    "*   **Weighted Avg:** The average of the per-class metrics, weighted by the support of each class. This is often more representative for imbalanced datasets.\n",
    "\n",
    "*TP is true positive, FP is false positive, and FN is false negative*\n",
    "\n",
    "Let's examine the report to understand the model's performance on unseen data with a 0.5 prediction threshold."
   ]
  },
  {
   "cell_type": "code",
   "execution_count": 18,
   "id": "2ad7be9f-c420-4dc3-b403-53b81b108411",
   "metadata": {},
   "outputs": [
    {
     "name": "stdout",
     "output_type": "stream",
     "text": [
      "77/77 [==============================] - 0s 2ms/step\n",
      "              precision    recall  f1-score   support\n",
      "\n",
      "           0     0.9959    0.9757    0.9857      1976\n",
      "           1     0.9040    0.9826    0.9417       460\n",
      "\n",
      "    accuracy                         0.9770      2436\n",
      "   macro avg     0.9499    0.9792    0.9637      2436\n",
      "weighted avg     0.9785    0.9770    0.9774      2436\n",
      "\n"
     ]
    }
   ],
   "source": [
    "from sklearn.metrics import classification_report\n",
    "\n",
    "Y_pred_logits = model.predict(X)\n",
    "Y_pred = tf.sigmoid(Y_pred_logits).numpy().flatten()\n",
    "y_pred = np.array([1 if x >= 0.5 else 0 for x in Y_pred])\n",
    "\n",
    "print(classification_report(Y, y_pred, digits=4))"
   ]
  },
  {
   "cell_type": "markdown",
   "id": "614fa0da-8cc7-4464-b984-cc912480228f",
   "metadata": {},
   "source": [
    "The classification report provides a detailed look at the trained model's performance on the evaluation dataset using a prediction threshold of 0.5 applied to the sigmoid probabilities derived from the model's output logits.\n",
    "\n",
    "*   The overall accuracy of ~0.9 indicates that the model correctly classifies a high percentage of instances in the evaluation set.\n",
    "*   For Class 0 (Non-CV), the model demonstrates excellent performance with very high Precision , Recall, and F1-score.\n",
    "*   For Class 1 (CV), the model achieves a high Recall, meaning it successfully identifies almost all actual Class 1 instances. The Precision is lower than Recall, indicating that while it finds most Class 1s, there are some instances incorrectly classified as Class 1 (False Positives for Class 1). The F1-score for Class 1 represents a reasonable balance for this class given the imbalance.\n",
    "\n",
    "The performance metrics, particularly the high Recall for the minority class and strong overall accuracy, suggest that the model has learned a good approximation of the physics simulation's logic on the available data.\n",
    "\n",
    "Personally, I am happy with these results as they indicate the model is performing well on this specific evaluation run and provides a good starting point for replicating the simulation's output.\n",
    "\n",
    "It's crucial to note that due to the inherent randomness in neural network training (e.g., weight initialization, batch shuffling) and potentially different splits of training/validation/evaluation data, running the training process again or using different data splits may lead to slightly different results. So, if the results don't make sense for you, perhaps you need to run the model fitting again."
   ]
  },
  {
   "cell_type": "markdown",
   "id": "074dd48f-f3b2-4288-9efd-64d2b4cb4f79",
   "metadata": {},
   "source": [
    "### Visualization\n",
    "\n",
    "To better understand how our trained model is performing and what decision boundary it has learned, we visualize its predictions within a specific slice of the input parameter space."
   ]
  },
  {
   "cell_type": "code",
   "execution_count": 19,
   "id": "e2d56343-33dd-46da-9a64-c5b3437dc260",
   "metadata": {},
   "outputs": [
    {
     "name": "stdout",
     "output_type": "stream",
     "text": [
      "1/1 [==============================] - 0s 46ms/step\n",
      "313/313 [==============================] - 1s 2ms/step\n"
     ]
    },
    {
     "data": {
      "image/png": "[encoded data removed]",
      "text/plain": [
       "<Figure size 1500x500 with 4 Axes>"
      ]
     },
     "metadata": {},
     "output_type": "display_data"
    }
   ],
   "source": [
    "import matplotlib.pyplot as plt\n",
    "from matplotlib import cm\n",
    "from matplotlib.colors import Normalize\n",
    "from matplotlib.colors import LinearSegmentedColormap\n",
    "\n",
    "threshold = 0.5\n",
    "n = 100 #number of pixel in 1 axis\n",
    "\n",
    "median_age = age_mesa[len(age_mesa)//2]\n",
    "M1_target = 1.3\n",
    "mask = (X[:, 0] == median_age) & (X[:, 1] == M1_target)\n",
    "X_slice = X[mask]\n",
    "Y_slice = Y[mask]\n",
    "cv = np.array([True if x == 1 else False for x in Y_slice])\n",
    "\n",
    "Y_pred_logits = model.predict(X_slice)\n",
    "Y_pred = tf.sigmoid(Y_pred_logits).numpy().flatten()\n",
    "cv_pred =  np.array([True if x >= threshold else False for x in Y_pred])\n",
    "\n",
    "M2 = X_slice[:, 2]\n",
    "Pi = X_slice[:, 3]\n",
    "M2_cv = M2[cv]\n",
    "Pi_cv = Pi[cv]\n",
    "M2_no = M2[np.invert(cv)]\n",
    "Pi_no = Pi[np.invert(cv)]\n",
    "M2_cv_pred = M2[cv_pred]\n",
    "Pi_cv_pred = Pi[cv_pred]\n",
    "M2_no_pred = M2[np.invert(cv_pred)]\n",
    "Pi_no_pred = Pi[np.invert(cv_pred)]\n",
    "Y_cv_pred = Y_pred[cv_pred]\n",
    "Y_no_pred = Y_pred[np.invert(cv_pred)]\n",
    "\n",
    "l_Pi = min(Pi)-((max(Pi) - min(Pi))*0.05)\n",
    "r_Pi = max(Pi)+((max(Pi) - min(Pi))*0.05)\n",
    "b_M2 = min(M2)-((max(M2) - min(M2))*0.05)\n",
    "u_M2 = max(M2)+((max(M2) - min(M2))*0.05)\n",
    "Pi_im = np.linspace(l_Pi,r_Pi,n)\n",
    "M2_im = np.linspace(b_M2,u_M2,n)\n",
    "age = X_slice[0,0]\n",
    "M1 = X_slice[0,1]\n",
    "X_im = []\n",
    "for m in M2_im[::-1]:\n",
    "    for p in Pi_im:\n",
    "        X_im.append([age, M1, m, p])\n",
    "X_im = np.array(X_im)\n",
    "Y_im_logits = model.predict(X_im)\n",
    "Y_im = tf.sigmoid(Y_im_logits).numpy().flatten()\n",
    "cv_im =  np.array([True if x >= threshold else False for x in Y_im])\n",
    "Y_im = Y_im.reshape(-1, len(Pi_im))\n",
    "\n",
    "\n",
    "norm = Normalize(vmin=0, vmax=1)\n",
    "colors = [(0.0, '#ff0000'), (threshold, '#800080'), (1.0, '#0000ff')]\n",
    "cmap = LinearSegmentedColormap.from_list(\"bbr\", colors)\n",
    "sm = cm.ScalarMappable(norm=norm, cmap=cmap)\n",
    "Y_cv_col = cmap(norm(Y_cv_pred))\n",
    "Y_no_col = cmap(norm(Y_no_pred))\n",
    "\n",
    "fig = plt.figure(figsize=(15,5))\n",
    "gs = fig.add_gridspec(1, 3, wspace=0.05)\n",
    "axs = gs.subplots(sharex=True, sharey=True)\n",
    "\n",
    "axs[0].scatter(Pi_cv, M2_cv, facecolors='none', edgecolors='b', marker='o', s=130)\n",
    "axs[0].scatter(Pi_no, M2_no, c='r', marker='x', s=100)\n",
    "axs[0].set_title(\"Dataset\")\n",
    "axs[0].set_xlabel(\"$P_i$ (days)\")\n",
    "axs[0].set_ylabel(r\"$M_2$ ($\\mathrm{M_\\odot}$)\")\n",
    "\n",
    "axs[1].scatter(Pi_cv_pred, M2_cv_pred, facecolors='none', edgecolors=Y_cv_col, marker='o', s=130)\n",
    "axs[1].scatter(Pi_no_pred, M2_no_pred, c=Y_no_col, marker='x', s=100)\n",
    "axs[1].set_title(\"Model Prediction\")\n",
    "axs[1].set_xlabel(r\"$P_i$ (days)\")\n",
    "\n",
    "axs[2].imshow(Y_im, extent=[l_Pi, r_Pi, b_M2, u_M2], cmap=cmap, aspect='auto')\n",
    "axs[2].scatter(Pi_cv_pred, M2_cv_pred, facecolors='none', edgecolors='w', marker='o', s=130)\n",
    "axs[2].scatter(Pi_no_pred, M2_no_pred, c='w', marker='x', s=100)\n",
    "axs[2].set_title(\"Model Prediction\")\n",
    "axs[2].set_xlabel(r\"$P_i$ (days)\")\n",
    "\n",
    "plt.colorbar(sm, ax=axs, label=\"CV Likelihood\", pad=0.01)\n",
    "plt.suptitle(r\"CV Classification at Age = $6.6e+09$ yr and $M_1$ = 1.3 $\\mathrm{M_\\odot}$\")\n",
    "plt.show()"
   ]
  },
  {
   "cell_type": "markdown",
   "id": "ba47bc84-78d9-4348-b242-bdb0d7ae794f",
   "metadata": {},
   "source": [
    "This plot shows the model's behavior for a fixed Age = $6.6 \\times 10^9$ yr and $M_1 = 1.3 \\mathrm{M_\\odot}$, varying only the initial period and the secondary mass.\n",
    "\n",
    "The visualization consists of three panels:\n",
    "\n",
    "1.  **Left Panel (Dataset):** Displays the true classification labels from the physics simulation at specific points in the ($P_i, M_2$) plane. Red 'x' represents non-CV, and blue 'o' represents CV. This shows the ground truth for the sampled points.\n",
    "\n",
    "2.  **Middle Panel (Model Prediction - Hard):** Shows the model's prediction for the same specific data points shown in the left panel. Red 'x' indicates the model predicted Non-CV, and blue 'o' indicates the model predicted CV (using a threshold of 0.5 on the sigmoid output). Comparing this panel to the \"Dataset\" panel directly shows which individual points the model classified correctly or incorrectly.\n",
    "\n",
    "3.  **Right Panel (Model Prediction - Soft):** Displays the model's continuous prediction (the likelihood or probability of CV, obtained after applying sigmoid to the logit output) across the entire ($P_i, M_2$) plane for this specific slice of parameter space.\n",
    "    *   The color map indicates the predicted likelihood, ranging from red (low likelihood of CV) to blue (high likelihood of CV).\n",
    "    *   The transition region between red and blue visually represents the model's learned decision boundary in this 2D slice.\n",
    "    *   The original data points are overlaid in white for reference, allowing us to see where the true class transitions occur relative to the model's learned boundary.\n",
    "\n",
    "This visualization helps confirm that the model is learning a plausible boundary that largely separates the two classes according to the true data points, giving insight into how well the neural network is approximating the deterministic function of the physics simulation in this region of the input space."
   ]
  },
  {
   "cell_type": "markdown",
   "id": "d29c1b31-ae4a-4a45-adb7-a272757d5074",
   "metadata": {},
   "source": [
    "## Saving the Trained Model\n",
    "\n",
    "To make our trained model reusable without needing to retrain it every time, we save its architecture, weights, and training configuration (optimizer state, loss, metrics) to a file. This allows us to load the exact same model later for making predictions.\n",
    "\n",
    "We use the `model.save()` method, which can save the model in various formats."
   ]
  },
  {
   "cell_type": "code",
   "execution_count": 20,
   "id": "0c2a49c6-5dfe-46ba-91b0-42be0f88df70",
   "metadata": {},
   "outputs": [
    {
     "name": "stdout",
     "output_type": "stream",
     "text": [
      "INFO:tensorflow:Assets written to: ./saved_model/cv_classification\\assets\n"
     ]
    }
   ],
   "source": [
    "import os\n",
    "\n",
    "model_save_path = './saved_model/cv_classification'\n",
    "\n",
    "if not os.path.exists(os.path.dirname(model_save_path)):\n",
    "    os.makedirs(os.path.dirname(model_save_path))\n",
    "\n",
    "model.save(model_save_path)"
   ]
  },
  {
   "cell_type": "code",
   "execution_count": null,
   "id": "be6ed9f3-198f-4c85-be50-9f59bcecbd20",
   "metadata": {},
   "outputs": [],
   "source": []
  }
 ],
 "metadata": {
  "kernelspec": {
   "display_name": "portoml",
   "language": "python",
   "name": "portoml"
  },
  "language_info": {
   "codemirror_mode": {
    "name": "ipython",
    "version": 3
   },
   "file_extension": ".py",
   "mimetype": "text/x-python",
   "name": "python",
   "nbconvert_exporter": "python",
   "pygments_lexer": "ipython3",
   "version": "3.9.21"
  }
 },
 "nbformat": 4,
 "nbformat_minor": 5
}
